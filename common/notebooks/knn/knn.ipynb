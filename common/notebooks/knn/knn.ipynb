{
 "cells": [
  {
   "cell_type": "markdown",
   "metadata": {},
   "source": [
    "# Метод (алгоритм) k-ближайших соседей\n",
    "Английское название: k-nearest neighbors (k-NN)."
   ]
  },
  {
   "cell_type": "markdown",
   "metadata": {},
   "source": [
    "### Краткое описание метода\n",
    "- Значение целевого признака определяется на основе значений целевых признаков тех объектов, которые находятся ближе всего к искомому объекту в пространстве признаков. Один из наиболее простых методов.\n",
    "\n",
    "- Исторически является одним из наиболее известных методов. В терминологии Data Mining рассматривался как основной алгоритм поиска по прецедентам.\n",
    "\n",
    "- Указать автора алгоритма довольно сложно. В статье http://37steps.com/4370/nn-rule-invention/ отмечается что метод был предложен много раз в различных вариантах. \n",
    "\n",
    "- Метод может использоваться как для классификации, так и для регресии.\n",
    "\n",
    "- Как правило, метод k-NN показывает худшее качество, по сравнению с другими, более сложными методами."
   ]
  },
  {
   "cell_type": "markdown",
   "metadata": {},
   "source": [
    "## Постановка задачи\n",
    "Пусть дана обучающая выборка:\n",
    "- $X^{train}$ - матрица объекты-признаки (feature matrix);\n",
    "- если необходимо указать конкретный элемент матрицы, то будем использовать  обозначение $X_{o, f}^{train}$, где $o$ - индекс объекта (соответствуют строке матрицы), а $f$ - индекс признака (соответствуют столбцу матрицы);\n",
    "- $Y^{train}$ - вектор целевого признака;\n",
    "- если необходимо указать конкретный элемент вектора, то будем использовать  обозначение $Y_{o}^{train}$, где $o$ - индекс объекта (соответствуют индексу вектора);\n",
    "- можно рассматривать $X^{train}|Y^{train}$ как блочную матрицу, количество  строк в матрице $X^{train}$ соответствует размерности вектора $Y^{train}$.\n",
    "\n",
    "На основании алгоритма $Alg$, который использует гиперпараметры $H$, для обучающей выборки строится модель $M:X^{train} \\rightarrow Y^{train}$, которая устанавливает соответствие между $X^{train}$ и $Y^{train}$: $M=Alg.fit(X^{train},Y^{train},H)$.\n",
    "\n",
    "Также дана тестовая выборка $X^{test}$ для которой на основании найденной модели $M$  необходимо найти (предсказать) значения  $Y^{test}=Alg.predict(M, X^{test})$."
   ]
  },
  {
   "cell_type": "markdown",
   "metadata": {},
   "source": [
    "В случае k-NN:\n",
    "- в качестве алгоритма $Alg$ используется метод k-ближайших соседей;\n",
    "- количество ближайших соседей $k$ является гиперпараметром алгоритма, то есть до начала работы алгоритма необходимо задать количество ближайших соседей $K$, значения $Y^{train}$ которых будут использованы для нахождения   $Y^{test}$."
   ]
  },
  {
   "cell_type": "markdown",
   "metadata": {},
   "source": [
    "## Простая реализация алгоритма"
   ]
  },
  {
   "cell_type": "markdown",
   "metadata": {},
   "source": [
    "### Реализация на языке Python"
   ]
  },
  {
   "cell_type": "code",
   "execution_count": 1,
   "metadata": {},
   "outputs": [],
   "source": [
    "from enum import Enum\n",
    "class PredictionType(Enum):\n",
    "    CLASSIFICATION = 1\n",
    "    REGRESSION = 2"
   ]
  },
  {
   "cell_type": "code",
   "execution_count": 2,
   "metadata": {},
   "outputs": [],
   "source": [
    "from operator import itemgetter\n",
    "import matplotlib.pyplot as plt\n",
    "import numpy as np\n",
    "\n",
    "class SimpleKNN:\n",
    "    \n",
    "    def fit(self, X_train: np.matrix, y_train: np.ndarray):\n",
    "        \"\"\"\n",
    "        Метод обучения, который фактически не учится, \n",
    "        а только запоминает обучающую выборку.\n",
    "        Входные параметры:\n",
    "        X_train - обучающая выборка (матрица объект-признак)\n",
    "        y_train - обучающая выборка (вектор целевого признака)\n",
    "        Возвращаемое значение: нет\n",
    "        \"\"\"\n",
    "        #Сохраняем параметры в переменных класса\n",
    "        self._X_train = X_train\n",
    "        self._y_train = y_train\n",
    "          \n",
    "    def eucl_dist(self, p: np.ndarray, q: np.ndarray) -> float:\n",
    "        \"\"\"\n",
    "        Вычисление Евклидова расстояния - https://en.wikipedia.org/wiki/Euclidean_distance \n",
    "        Входные параметры:\n",
    "        p, q - вектора в n-мерном пространстве признаков\n",
    "        \"\"\"\n",
    "        return sum([(pi - qi) ** 2 for pi, qi in zip (p, q)])\n",
    "            \n",
    "            \n",
    "    def predict_for_single_object(self, K: int, \\\n",
    "                prediction_type: PredictionType, \\\n",
    "                X_o: np.ndarray, \\\n",
    "                verbose = True) -> np.ndarray:\n",
    "        \"\"\"\n",
    "        Метод предсказания для одного объекта.\n",
    "        Входные параметры:\n",
    "        K - гиперпараметр, количество соседей \n",
    "        prediction_type - классификация или регрессия \n",
    "        X_o - строка матрицы объект-признак, соответствующая объекту\n",
    "        verbose - флаг детального вывода\n",
    "        Возвращаемое значение: предсказанное значение целевого признака\n",
    "        \"\"\"\n",
    "        # список соседей\n",
    "        neighbors_list = []\n",
    "        # *** Находим ближайшие точки ***\n",
    "        # Перебираем все точки обучающей выборки\n",
    "        for i in range(self._X_train.shape[0]):\n",
    "            # получаем текущую точку\n",
    "            data_train_current_x = [x for x in self._X_train[['x1','x2']].iloc[i]]\n",
    "            # и значение ее y\n",
    "            data_train_current_y = self._y_train[i]\n",
    "            # вычисляем расстояние\n",
    "            dist = self.eucl_dist(X_o, data_train_current_x)\n",
    "            # сохраняем в список соседей\n",
    "            temp_res = (data_train_current_y, dist, data_train_current_x)\n",
    "            neighbors_list.append(temp_res)\n",
    "        # *** сортируем список соседей по возрастанию расстояния *** \n",
    "        # в кортеже элементы следуют в порядке (0,1,2), сортируем по первому элементу \n",
    "        neighbors_list_sorted = sorted(neighbors_list, key=itemgetter(1))\n",
    "        if verbose:\n",
    "            print('**************************************')\n",
    "            print('Проверяемая точка: ', X_o)\n",
    "            print('Вывод отсортированного списка соседей:')    \n",
    "            dist_list = []\n",
    "            for cur_y, cur_dist, _ in neighbors_list_sorted:\n",
    "                print('y={0}, расстояние={1:.2f}'.format(cur_y, cur_dist))\n",
    "                dist_list.append(cur_dist)\n",
    "            print()\n",
    "            print('Вывод расстояния для отсортированного списка соседей:')    \n",
    "            plt.plot(dist_list)\n",
    "            plt.show()\n",
    "        # Оставим только K ближайших соседей\n",
    "        K_neighbors_list_sorted = neighbors_list_sorted[:K]\n",
    "        if verbose:\n",
    "            print('Вывод К ближайших соседей:')\n",
    "            x1_list = []\n",
    "            x2_list = []\n",
    "            for cur_y, cur_dist, temp_x_1_2 in K_neighbors_list_sorted:\n",
    "                temp_x1, temp_x2 = temp_x_1_2\n",
    "                x1_list.append(temp_x1)\n",
    "                x2_list.append(temp_x2)\n",
    "                print('y={0}, расстояние={1:.2f}'.format(cur_y, cur_dist))\n",
    "            print()\n",
    "            print('Визуализация К ближайших соседей:')\n",
    "            plt.plot(self._X_train['x1'], self._X_train['x2'], 'b.', \\\n",
    "                     x1_list, x2_list,  'g*', \\\n",
    "                    [X_o[0]], [X_o[1]], 'ro')\n",
    "            plt.show()   \n",
    "        # Результат - классификация или регрессия\n",
    "        if prediction_type == PredictionType.REGRESSION:\n",
    "            # используем numpy для вычисления среднего значения\n",
    "            arr = np.array([x for x,_,_ in K_neighbors_list_sorted])\n",
    "            # возвращаем среднее значение\n",
    "            return np.mean(arr)          \n",
    "        elif prediction_type == PredictionType.CLASSIFICATION:\n",
    "            k_y_list = [y for y,_,_ in K_neighbors_list_sorted]\n",
    "            # группируем с количеством метки классов,\n",
    "            # соответствующие K ближайшим соседям\n",
    "            k_y_list_grouped_temp = np.unique(k_y_list, return_counts=True)\n",
    "            k_y_list_grouped = [[key, cnt] for key, cnt in zip(k_y_list_grouped_temp[0], k_y_list_grouped_temp[1])]\n",
    "            # сортируем по количеству по убыванию\n",
    "            k_y_list_grouped_sorted = sorted(k_y_list_grouped, key=itemgetter(1), reverse=True)\n",
    "            if verbose:\n",
    "                print('Классы, соответствующие К ближайшим соседям:')\n",
    "                for i in k_y_list_grouped_sorted:\n",
    "                    print('класс={0}, количество элементов={1}'.format(i[0], i[1]))\n",
    "            # возвращаеv метку класса из первой строки отсортированного массива\n",
    "            # то есть того класса, к которому принадлежит наибольшее количество соседей\n",
    "            return k_y_list_grouped_sorted[0][0]\n",
    "        else:\n",
    "            raise Exception('Неизвестный тип предсказания')\n",
    "                   \n",
    "    \n",
    "    def predict(self, K: int, \\\n",
    "                prediction_type: PredictionType, \\\n",
    "                X_test: np.matrix, \n",
    "                verbose = True) -> np.ndarray:\n",
    "        \"\"\"\n",
    "        Метод предсказания.\n",
    "        Входные параметры:\n",
    "        K - гиперпараметр, количество соседей \n",
    "        prediction_type - классификация или регрессия \n",
    "        X_test - тестовая выборка (матрица объект-признак)\n",
    "        Возвращаемое значение: предсказанный вектор целевого признака\n",
    "        \"\"\"\n",
    "        # Перебираем все точки тестовой выборки\n",
    "        test_data_temp = []\n",
    "        for i in range(X_test.shape[0]):\n",
    "            # получаем текущую точку\n",
    "            data_test_current_x = [x for x in X_test.iloc[i]]\n",
    "            test_data_temp.append(data_test_current_x)       \n",
    "        return [self.predict_for_single_object(K=K, \\\n",
    "                prediction_type=prediction_type, \\\n",
    "                X_o=i, verbose=verbose) for i in test_data_temp]\n",
    "    "
   ]
  },
  {
   "cell_type": "code",
   "execution_count": null,
   "metadata": {},
   "outputs": [],
   "source": []
  },
  {
   "cell_type": "markdown",
   "metadata": {},
   "source": [
    "### Обучающая и тестовая выборки"
   ]
  },
  {
   "cell_type": "markdown",
   "metadata": {},
   "source": [
    "- В качестве обучающей выборки будем использовать набор точек на плоскости в диапазоне от 0 до 10.\n",
    "- Конечно, алгоритм может работать с многомерным пространством, но для демонстраиции алгоритма мы используем такой набор данных.\n",
    "- Если разные признаки имеют сильно отличающиеся диапазоны значений, то применяют нормализацию исходных данных. О нормализации рассказывается в особенностях алгоритма. В нашем примере нормализация не используется. "
   ]
  },
  {
   "cell_type": "code",
   "execution_count": 3,
   "metadata": {},
   "outputs": [],
   "source": [
    "import pandas as pd"
   ]
  },
  {
   "cell_type": "code",
   "execution_count": 4,
   "metadata": {},
   "outputs": [],
   "source": [
    "# чтение обучающей выборки\n",
    "data_train = pd.read_csv('data/knn_sample_data_train.csv', sep=\";\")"
   ]
  },
  {
   "cell_type": "code",
   "execution_count": 5,
   "metadata": {},
   "outputs": [
    {
     "data": {
      "text/html": [
       "<div>\n",
       "<style scoped>\n",
       "    .dataframe tbody tr th:only-of-type {\n",
       "        vertical-align: middle;\n",
       "    }\n",
       "\n",
       "    .dataframe tbody tr th {\n",
       "        vertical-align: top;\n",
       "    }\n",
       "\n",
       "    .dataframe thead th {\n",
       "        text-align: right;\n",
       "    }\n",
       "</style>\n",
       "<table border=\"1\" class=\"dataframe\">\n",
       "  <thead>\n",
       "    <tr style=\"text-align: right;\">\n",
       "      <th></th>\n",
       "      <th>x1</th>\n",
       "      <th>x2</th>\n",
       "      <th>y</th>\n",
       "    </tr>\n",
       "  </thead>\n",
       "  <tbody>\n",
       "    <tr>\n",
       "      <th>0</th>\n",
       "      <td>0.5</td>\n",
       "      <td>1.0</td>\n",
       "      <td>1.1</td>\n",
       "    </tr>\n",
       "    <tr>\n",
       "      <th>1</th>\n",
       "      <td>1.0</td>\n",
       "      <td>1.2</td>\n",
       "      <td>1.2</td>\n",
       "    </tr>\n",
       "    <tr>\n",
       "      <th>2</th>\n",
       "      <td>2.0</td>\n",
       "      <td>2.0</td>\n",
       "      <td>1.9</td>\n",
       "    </tr>\n",
       "    <tr>\n",
       "      <th>3</th>\n",
       "      <td>2.5</td>\n",
       "      <td>2.0</td>\n",
       "      <td>2.0</td>\n",
       "    </tr>\n",
       "    <tr>\n",
       "      <th>4</th>\n",
       "      <td>8.0</td>\n",
       "      <td>1.0</td>\n",
       "      <td>4.0</td>\n",
       "    </tr>\n",
       "    <tr>\n",
       "      <th>5</th>\n",
       "      <td>9.0</td>\n",
       "      <td>2.0</td>\n",
       "      <td>4.5</td>\n",
       "    </tr>\n",
       "    <tr>\n",
       "      <th>6</th>\n",
       "      <td>1.0</td>\n",
       "      <td>8.5</td>\n",
       "      <td>6.0</td>\n",
       "    </tr>\n",
       "    <tr>\n",
       "      <th>7</th>\n",
       "      <td>8.1</td>\n",
       "      <td>9.0</td>\n",
       "      <td>8.1</td>\n",
       "    </tr>\n",
       "    <tr>\n",
       "      <th>8</th>\n",
       "      <td>9.0</td>\n",
       "      <td>8.2</td>\n",
       "      <td>8.2</td>\n",
       "    </tr>\n",
       "    <tr>\n",
       "      <th>9</th>\n",
       "      <td>8.7</td>\n",
       "      <td>9.2</td>\n",
       "      <td>8.1</td>\n",
       "    </tr>\n",
       "    <tr>\n",
       "      <th>10</th>\n",
       "      <td>9.5</td>\n",
       "      <td>9.5</td>\n",
       "      <td>8.3</td>\n",
       "    </tr>\n",
       "  </tbody>\n",
       "</table>\n",
       "</div>"
      ],
      "text/plain": [
       "     x1   x2    y\n",
       "0   0.5  1.0  1.1\n",
       "1   1.0  1.2  1.2\n",
       "2   2.0  2.0  1.9\n",
       "3   2.5  2.0  2.0\n",
       "4   8.0  1.0  4.0\n",
       "5   9.0  2.0  4.5\n",
       "6   1.0  8.5  6.0\n",
       "7   8.1  9.0  8.1\n",
       "8   9.0  8.2  8.2\n",
       "9   8.7  9.2  8.1\n",
       "10  9.5  9.5  8.3"
      ]
     },
     "execution_count": 5,
     "metadata": {},
     "output_type": "execute_result"
    }
   ],
   "source": [
    "data_train"
   ]
  },
  {
   "cell_type": "markdown",
   "metadata": {},
   "source": [
    "Целевой признак $y$ предназначен для регресии. Построим на его основе  признак для классификации."
   ]
  },
  {
   "cell_type": "code",
   "execution_count": 6,
   "metadata": {},
   "outputs": [],
   "source": [
    "def regr_to_class(y: float) -> str:\n",
    "    if y<3:\n",
    "        result = 'A'\n",
    "    elif y<5:\n",
    "        result = 'B'\n",
    "    elif y<7:\n",
    "        result = 'C'\n",
    "    else:\n",
    "        result = 'D'        \n",
    "    return result "
   ]
  },
  {
   "cell_type": "code",
   "execution_count": 7,
   "metadata": {},
   "outputs": [],
   "source": [
    "# формирование второго целевого признака для классификации\n",
    "data_train['y_clas'] = \\\n",
    "data_train.apply(lambda row: regr_to_class(row['y']),axis=1)"
   ]
  },
  {
   "cell_type": "code",
   "execution_count": 8,
   "metadata": {},
   "outputs": [
    {
     "data": {
      "text/html": [
       "<div>\n",
       "<style scoped>\n",
       "    .dataframe tbody tr th:only-of-type {\n",
       "        vertical-align: middle;\n",
       "    }\n",
       "\n",
       "    .dataframe tbody tr th {\n",
       "        vertical-align: top;\n",
       "    }\n",
       "\n",
       "    .dataframe thead th {\n",
       "        text-align: right;\n",
       "    }\n",
       "</style>\n",
       "<table border=\"1\" class=\"dataframe\">\n",
       "  <thead>\n",
       "    <tr style=\"text-align: right;\">\n",
       "      <th></th>\n",
       "      <th>x1</th>\n",
       "      <th>x2</th>\n",
       "      <th>y</th>\n",
       "      <th>y_clas</th>\n",
       "    </tr>\n",
       "  </thead>\n",
       "  <tbody>\n",
       "    <tr>\n",
       "      <th>0</th>\n",
       "      <td>0.5</td>\n",
       "      <td>1.0</td>\n",
       "      <td>1.1</td>\n",
       "      <td>A</td>\n",
       "    </tr>\n",
       "    <tr>\n",
       "      <th>1</th>\n",
       "      <td>1.0</td>\n",
       "      <td>1.2</td>\n",
       "      <td>1.2</td>\n",
       "      <td>A</td>\n",
       "    </tr>\n",
       "    <tr>\n",
       "      <th>2</th>\n",
       "      <td>2.0</td>\n",
       "      <td>2.0</td>\n",
       "      <td>1.9</td>\n",
       "      <td>A</td>\n",
       "    </tr>\n",
       "    <tr>\n",
       "      <th>3</th>\n",
       "      <td>2.5</td>\n",
       "      <td>2.0</td>\n",
       "      <td>2.0</td>\n",
       "      <td>A</td>\n",
       "    </tr>\n",
       "    <tr>\n",
       "      <th>4</th>\n",
       "      <td>8.0</td>\n",
       "      <td>1.0</td>\n",
       "      <td>4.0</td>\n",
       "      <td>B</td>\n",
       "    </tr>\n",
       "    <tr>\n",
       "      <th>5</th>\n",
       "      <td>9.0</td>\n",
       "      <td>2.0</td>\n",
       "      <td>4.5</td>\n",
       "      <td>B</td>\n",
       "    </tr>\n",
       "    <tr>\n",
       "      <th>6</th>\n",
       "      <td>1.0</td>\n",
       "      <td>8.5</td>\n",
       "      <td>6.0</td>\n",
       "      <td>C</td>\n",
       "    </tr>\n",
       "    <tr>\n",
       "      <th>7</th>\n",
       "      <td>8.1</td>\n",
       "      <td>9.0</td>\n",
       "      <td>8.1</td>\n",
       "      <td>D</td>\n",
       "    </tr>\n",
       "    <tr>\n",
       "      <th>8</th>\n",
       "      <td>9.0</td>\n",
       "      <td>8.2</td>\n",
       "      <td>8.2</td>\n",
       "      <td>D</td>\n",
       "    </tr>\n",
       "    <tr>\n",
       "      <th>9</th>\n",
       "      <td>8.7</td>\n",
       "      <td>9.2</td>\n",
       "      <td>8.1</td>\n",
       "      <td>D</td>\n",
       "    </tr>\n",
       "    <tr>\n",
       "      <th>10</th>\n",
       "      <td>9.5</td>\n",
       "      <td>9.5</td>\n",
       "      <td>8.3</td>\n",
       "      <td>D</td>\n",
       "    </tr>\n",
       "  </tbody>\n",
       "</table>\n",
       "</div>"
      ],
      "text/plain": [
       "     x1   x2    y y_clas\n",
       "0   0.5  1.0  1.1      A\n",
       "1   1.0  1.2  1.2      A\n",
       "2   2.0  2.0  1.9      A\n",
       "3   2.5  2.0  2.0      A\n",
       "4   8.0  1.0  4.0      B\n",
       "5   9.0  2.0  4.5      B\n",
       "6   1.0  8.5  6.0      C\n",
       "7   8.1  9.0  8.1      D\n",
       "8   9.0  8.2  8.2      D\n",
       "9   8.7  9.2  8.1      D\n",
       "10  9.5  9.5  8.3      D"
      ]
     },
     "execution_count": 8,
     "metadata": {},
     "output_type": "execute_result"
    }
   ],
   "source": [
    "data_train"
   ]
  },
  {
   "cell_type": "code",
   "execution_count": 9,
   "metadata": {},
   "outputs": [],
   "source": [
    "# чтение тестовой выборки\n",
    "data_test = pd.read_csv('data/knn_sample_data_test.csv', sep=\";\")"
   ]
  },
  {
   "cell_type": "code",
   "execution_count": 10,
   "metadata": {},
   "outputs": [
    {
     "data": {
      "text/html": [
       "<div>\n",
       "<style scoped>\n",
       "    .dataframe tbody tr th:only-of-type {\n",
       "        vertical-align: middle;\n",
       "    }\n",
       "\n",
       "    .dataframe tbody tr th {\n",
       "        vertical-align: top;\n",
       "    }\n",
       "\n",
       "    .dataframe thead th {\n",
       "        text-align: right;\n",
       "    }\n",
       "</style>\n",
       "<table border=\"1\" class=\"dataframe\">\n",
       "  <thead>\n",
       "    <tr style=\"text-align: right;\">\n",
       "      <th></th>\n",
       "      <th>x1</th>\n",
       "      <th>x2</th>\n",
       "    </tr>\n",
       "  </thead>\n",
       "  <tbody>\n",
       "    <tr>\n",
       "      <th>0</th>\n",
       "      <td>1.7</td>\n",
       "      <td>1.7</td>\n",
       "    </tr>\n",
       "    <tr>\n",
       "      <th>1</th>\n",
       "      <td>3.5</td>\n",
       "      <td>7.0</td>\n",
       "    </tr>\n",
       "    <tr>\n",
       "      <th>2</th>\n",
       "      <td>8.5</td>\n",
       "      <td>1.5</td>\n",
       "    </tr>\n",
       "    <tr>\n",
       "      <th>3</th>\n",
       "      <td>8.5</td>\n",
       "      <td>8.5</td>\n",
       "    </tr>\n",
       "  </tbody>\n",
       "</table>\n",
       "</div>"
      ],
      "text/plain": [
       "    x1   x2\n",
       "0  1.7  1.7\n",
       "1  3.5  7.0\n",
       "2  8.5  1.5\n",
       "3  8.5  8.5"
      ]
     },
     "execution_count": 10,
     "metadata": {},
     "output_type": "execute_result"
    }
   ],
   "source": [
    "data_test"
   ]
  },
  {
   "cell_type": "code",
   "execution_count": 11,
   "metadata": {},
   "outputs": [
    {
     "data": {
      "image/png": "[encoded data removed]",
      "text/plain": [
       "<Figure size 432x288 with 1 Axes>"
      ]
     },
     "metadata": {
      "needs_background": "light"
     },
     "output_type": "display_data"
    }
   ],
   "source": [
    "# визуализация выборки\n",
    "plt.plot(data_train['x1'], data_train['x2'], 'b.', \\\n",
    "         data_test['x1'], data_test['x2'], 'ro')\n",
    "plt.show()   "
   ]
  },
  {
   "cell_type": "markdown",
   "metadata": {},
   "source": [
    "Документация по выводу точек:\n",
    "\n",
    "https://matplotlib.org/users/pyplot_tutorial.html\n",
    "\n",
    "https://matplotlib.org/api/_as_gen/matplotlib.pyplot.plot.html"
   ]
  },
  {
   "cell_type": "code",
   "execution_count": null,
   "metadata": {},
   "outputs": [],
   "source": []
  },
  {
   "cell_type": "markdown",
   "metadata": {},
   "source": [
    "### Фаза обучения"
   ]
  },
  {
   "cell_type": "markdown",
   "metadata": {},
   "source": [
    "- Особенность метода заключается в том, что фаза обучения как таковая отсутствует. При обучении необходимо только сохранить обучающую выборку $X^{train}|Y^{train}$, которая будет использоваться для выбора ближайших соседей на этапе предсказания. \n",
    "\n",
    "- В этом отношении k-NN очень нетипичный метод. В большинстве других методов на этапе обучения используется массивная обработка данных и построение сложной модели для дальнейших предсказаний."
   ]
  },
  {
   "cell_type": "markdown",
   "metadata": {},
   "source": [
    "#### Пример с регрессией"
   ]
  },
  {
   "cell_type": "code",
   "execution_count": 12,
   "metadata": {},
   "outputs": [],
   "source": [
    "# создаем объект класса\n",
    "simple_knn_regr = SimpleKNN()"
   ]
  },
  {
   "cell_type": "code",
   "execution_count": 13,
   "metadata": {},
   "outputs": [],
   "source": [
    "# вызываем метод обучения\n",
    "simple_knn_regr.fit(data_train[['x1','x2']], data_train['y'])"
   ]
  },
  {
   "cell_type": "code",
   "execution_count": 14,
   "metadata": {},
   "outputs": [
    {
     "data": {
      "text/html": [
       "<div>\n",
       "<style scoped>\n",
       "    .dataframe tbody tr th:only-of-type {\n",
       "        vertical-align: middle;\n",
       "    }\n",
       "\n",
       "    .dataframe tbody tr th {\n",
       "        vertical-align: top;\n",
       "    }\n",
       "\n",
       "    .dataframe thead th {\n",
       "        text-align: right;\n",
       "    }\n",
       "</style>\n",
       "<table border=\"1\" class=\"dataframe\">\n",
       "  <thead>\n",
       "    <tr style=\"text-align: right;\">\n",
       "      <th></th>\n",
       "      <th>x1</th>\n",
       "      <th>x2</th>\n",
       "    </tr>\n",
       "  </thead>\n",
       "  <tbody>\n",
       "    <tr>\n",
       "      <th>0</th>\n",
       "      <td>0.5</td>\n",
       "      <td>1.0</td>\n",
       "    </tr>\n",
       "    <tr>\n",
       "      <th>1</th>\n",
       "      <td>1.0</td>\n",
       "      <td>1.2</td>\n",
       "    </tr>\n",
       "    <tr>\n",
       "      <th>2</th>\n",
       "      <td>2.0</td>\n",
       "      <td>2.0</td>\n",
       "    </tr>\n",
       "    <tr>\n",
       "      <th>3</th>\n",
       "      <td>2.5</td>\n",
       "      <td>2.0</td>\n",
       "    </tr>\n",
       "    <tr>\n",
       "      <th>4</th>\n",
       "      <td>8.0</td>\n",
       "      <td>1.0</td>\n",
       "    </tr>\n",
       "    <tr>\n",
       "      <th>5</th>\n",
       "      <td>9.0</td>\n",
       "      <td>2.0</td>\n",
       "    </tr>\n",
       "    <tr>\n",
       "      <th>6</th>\n",
       "      <td>1.0</td>\n",
       "      <td>8.5</td>\n",
       "    </tr>\n",
       "    <tr>\n",
       "      <th>7</th>\n",
       "      <td>8.1</td>\n",
       "      <td>9.0</td>\n",
       "    </tr>\n",
       "    <tr>\n",
       "      <th>8</th>\n",
       "      <td>9.0</td>\n",
       "      <td>8.2</td>\n",
       "    </tr>\n",
       "    <tr>\n",
       "      <th>9</th>\n",
       "      <td>8.7</td>\n",
       "      <td>9.2</td>\n",
       "    </tr>\n",
       "    <tr>\n",
       "      <th>10</th>\n",
       "      <td>9.5</td>\n",
       "      <td>9.5</td>\n",
       "    </tr>\n",
       "  </tbody>\n",
       "</table>\n",
       "</div>"
      ],
      "text/plain": [
       "     x1   x2\n",
       "0   0.5  1.0\n",
       "1   1.0  1.2\n",
       "2   2.0  2.0\n",
       "3   2.5  2.0\n",
       "4   8.0  1.0\n",
       "5   9.0  2.0\n",
       "6   1.0  8.5\n",
       "7   8.1  9.0\n",
       "8   9.0  8.2\n",
       "9   8.7  9.2\n",
       "10  9.5  9.5"
      ]
     },
     "execution_count": 14,
     "metadata": {},
     "output_type": "execute_result"
    }
   ],
   "source": [
    "# параметры метода\n",
    "# матрица объект-признак\n",
    "data_train[['x1','x2']]"
   ]
  },
  {
   "cell_type": "code",
   "execution_count": 15,
   "metadata": {},
   "outputs": [
    {
     "data": {
      "text/plain": [
       "0     1.1\n",
       "1     1.2\n",
       "2     1.9\n",
       "3     2.0\n",
       "4     4.0\n",
       "5     4.5\n",
       "6     6.0\n",
       "7     8.1\n",
       "8     8.2\n",
       "9     8.1\n",
       "10    8.3\n",
       "Name: y, dtype: float64"
      ]
     },
     "execution_count": 15,
     "metadata": {},
     "output_type": "execute_result"
    }
   ],
   "source": [
    "# вектор целевого признака\n",
    "data_train['y']"
   ]
  },
  {
   "cell_type": "markdown",
   "metadata": {},
   "source": [
    "#### Пример с классификацией"
   ]
  },
  {
   "cell_type": "code",
   "execution_count": 16,
   "metadata": {},
   "outputs": [],
   "source": [
    "simple_knn_clas = SimpleKNN()\n",
    "simple_knn_clas.fit(data_train[['x1','x2']], data_train['y_clas'])"
   ]
  },
  {
   "cell_type": "code",
   "execution_count": null,
   "metadata": {},
   "outputs": [],
   "source": []
  },
  {
   "cell_type": "markdown",
   "metadata": {},
   "source": [
    "### Фаза предсказания"
   ]
  },
  {
   "cell_type": "markdown",
   "metadata": {},
   "source": [
    "Фаза предсказания в методе ближайших соседей достаточно проста (здесь разобран наиболее простой алгоритм):\n",
    "1. Необходимо вычислить расстояние от искомой точки до всех точек обучающей выборки:\n",
    "  1. Для того, чтобы вычислить расстояние, в пространстве точек необходимо ввести метрику (функцию дистанции).\n",
    "  1. Наиболее часто используется Евклидова метрика. Для векторов $p$ и $q$ в n-мерном пространстве:\n",
    "  $$d(p,q)= \\sqrt{ (p_1-q_1)^2 + (p_2-q_2)^2 + \\cdots + (p_n-q_n)^2 } = \\sqrt{ \\sum_{i=1}^{n} (p_i-q_i)^2} $$\n",
    "  Также могут использоваться более сложные метрики http://scikit-learn.org/stable/modules/generated/sklearn.neighbors.DistanceMetric.html\n",
    "  \n",
    "1. Сортируем массив найденных расстояний по возрастанию.\n",
    "1. Выбираем K первых элементов массива (соответствующих точкам обучающей выборки, наиболее близких к искомой), знаем $Y_{o}^{train}$ для этих точек, объединяем найденные $Y_{o}^{train}$ в массив $YK^{train}$. Таким образом, массив $YK^{train}$ - это подмножество вектора $Y^{train}$, соответствующий  K точкам обучающей выборки, наиболее близким к искомой точке.\n",
    "1. Для полученого массива $YK^{train}$ необходимо вычислить регрессию или класификацию:\n",
    "    1. В случае регрессии берется среднее по всем значениям массива - $AVG(YK^{train})$\n",
    "    1. В случае классификации возвращается метка класса, наиболее часто встречающегося в $YK^{train}$. То есть мы присоединяем точку к тому классу, к которому уже принадлежит больше всего соседей.\n",
    "    1. Существуют другие подходы к классификации, например возвращать метку класса для наиболее близкого соседа (в этом случае фактически не учитывается гиперпараметр К).\n",
    " "
   ]
  },
  {
   "cell_type": "code",
   "execution_count": 17,
   "metadata": {},
   "outputs": [
    {
     "data": {
      "text/plain": [
       "[1.7, 1.7]"
      ]
     },
     "execution_count": 17,
     "metadata": {},
     "output_type": "execute_result"
    }
   ],
   "source": [
    "# первая строка тестовой выборки\n",
    "data_test_0 = [x for x in data_test[['x1','x2']].iloc[0]]\n",
    "data_test_0"
   ]
  },
  {
   "cell_type": "code",
   "execution_count": 18,
   "metadata": {},
   "outputs": [
    {
     "name": "stdout",
     "output_type": "stream",
     "text": [
      "**************************************\n",
      "Проверяемая точка:  [1.7, 1.7]\n",
      "Вывод отсортированного списка соседей:\n",
      "y=1.9, расстояние=0.18\n",
      "y=2.0, расстояние=0.73\n",
      "y=1.2, расстояние=0.74\n",
      "y=1.1, расстояние=1.93\n",
      "y=4.0, расстояние=40.18\n",
      "y=6.0, расстояние=46.73\n",
      "y=4.5, расстояние=53.38\n",
      "y=8.1, расстояние=94.25\n",
      "y=8.2, расстояние=95.54\n",
      "y=8.1, расстояние=105.25\n",
      "y=8.3, расстояние=121.68\n",
      "\n",
      "Вывод расстояния для отсортированного списка соседей:\n"
     ]
    },
    {
     "data": {
      "image/png": "[encoded data removed]",
      "text/plain": [
       "<Figure size 432x288 with 1 Axes>"
      ]
     },
     "metadata": {
      "needs_background": "light"
     },
     "output_type": "display_data"
    },
    {
     "name": "stdout",
     "output_type": "stream",
     "text": [
      "Вывод К ближайших соседей:\n",
      "y=1.9, расстояние=0.18\n",
      "y=2.0, расстояние=0.73\n",
      "y=1.2, расстояние=0.74\n",
      "y=1.1, расстояние=1.93\n",
      "y=4.0, расстояние=40.18\n",
      "\n",
      "Визуализация К ближайших соседей:\n"
     ]
    },
    {
     "data": {
      "image/png": "[encoded data removed]",
      "text/plain": [
       "<Figure size 432x288 with 1 Axes>"
      ]
     },
     "metadata": {
      "needs_background": "light"
     },
     "output_type": "display_data"
    },
    {
     "data": {
      "text/plain": [
       "2.04"
      ]
     },
     "execution_count": 18,
     "metadata": {},
     "output_type": "execute_result"
    }
   ],
   "source": [
    "# построим предсказание для одного объекта (регрессия)\n",
    "simple_knn_regr_0 = simple_knn_regr.predict_for_single_object(K=5, \\\n",
    "                          prediction_type=PredictionType.REGRESSION, \\\n",
    "                          X_o=data_test_0)\n",
    "simple_knn_regr_0"
   ]
  },
  {
   "cell_type": "code",
   "execution_count": 19,
   "metadata": {},
   "outputs": [
    {
     "name": "stdout",
     "output_type": "stream",
     "text": [
      "**************************************\n",
      "Проверяемая точка:  [1.7, 1.7]\n",
      "Вывод отсортированного списка соседей:\n",
      "y=A, расстояние=0.18\n",
      "y=A, расстояние=0.73\n",
      "y=A, расстояние=0.74\n",
      "y=A, расстояние=1.93\n",
      "y=B, расстояние=40.18\n",
      "y=C, расстояние=46.73\n",
      "y=B, расстояние=53.38\n",
      "y=D, расстояние=94.25\n",
      "y=D, расстояние=95.54\n",
      "y=D, расстояние=105.25\n",
      "y=D, расстояние=121.68\n",
      "\n",
      "Вывод расстояния для отсортированного списка соседей:\n"
     ]
    },
    {
     "data": {
      "image/png": "[encoded data removed]",
      "text/plain": [
       "<Figure size 432x288 with 1 Axes>"
      ]
     },
     "metadata": {
      "needs_background": "light"
     },
     "output_type": "display_data"
    },
    {
     "name": "stdout",
     "output_type": "stream",
     "text": [
      "Вывод К ближайших соседей:\n",
      "y=A, расстояние=0.18\n",
      "y=A, расстояние=0.73\n",
      "y=A, расстояние=0.74\n",
      "y=A, расстояние=1.93\n",
      "y=B, расстояние=40.18\n",
      "\n",
      "Визуализация К ближайших соседей:\n"
     ]
    },
    {
     "data": {
      "image/png": "[encoded data removed]",
      "text/plain": [
       "<Figure size 432x288 with 1 Axes>"
      ]
     },
     "metadata": {
      "needs_background": "light"
     },
     "output_type": "display_data"
    },
    {
     "name": "stdout",
     "output_type": "stream",
     "text": [
      "Классы, соответствующие К ближайшим соседям:\n",
      "класс=A, количество элементов=4\n",
      "класс=B, количество элементов=1\n"
     ]
    },
    {
     "data": {
      "text/plain": [
       "'A'"
      ]
     },
     "execution_count": 19,
     "metadata": {},
     "output_type": "execute_result"
    }
   ],
   "source": [
    "# построим предсказание для одного объекта (классификация)\n",
    "simple_knn_clas_0 = simple_knn_clas.predict_for_single_object(K=5, \\\n",
    "                          prediction_type=PredictionType.CLASSIFICATION, \\\n",
    "                          X_o=data_test_0)\n",
    "simple_knn_clas_0"
   ]
  },
  {
   "cell_type": "code",
   "execution_count": 20,
   "metadata": {
    "scrolled": false
   },
   "outputs": [
    {
     "name": "stdout",
     "output_type": "stream",
     "text": [
      "**************************************\n",
      "Проверяемая точка:  [1.7, 1.7]\n",
      "Вывод отсортированного списка соседей:\n",
      "y=1.9, расстояние=0.18\n",
      "y=2.0, расстояние=0.73\n",
      "y=1.2, расстояние=0.74\n",
      "y=1.1, расстояние=1.93\n",
      "y=4.0, расстояние=40.18\n",
      "y=6.0, расстояние=46.73\n",
      "y=4.5, расстояние=53.38\n",
      "y=8.1, расстояние=94.25\n",
      "y=8.2, расстояние=95.54\n",
      "y=8.1, расстояние=105.25\n",
      "y=8.3, расстояние=121.68\n",
      "\n",
      "Вывод расстояния для отсортированного списка соседей:\n"
     ]
    },
    {
     "data": {
      "image/png": "[encoded data removed]",
      "text/plain": [
       "<Figure size 432x288 with 1 Axes>"
      ]
     },
     "metadata": {
      "needs_background": "light"
     },
     "output_type": "display_data"
    },
    {
     "name": "stdout",
     "output_type": "stream",
     "text": [
      "Вывод К ближайших соседей:\n",
      "y=1.9, расстояние=0.18\n",
      "y=2.0, расстояние=0.73\n",
      "y=1.2, расстояние=0.74\n",
      "y=1.1, расстояние=1.93\n",
      "y=4.0, расстояние=40.18\n",
      "\n",
      "Визуализация К ближайших соседей:\n"
     ]
    },
    {
     "data": {
      "image/png": "[encoded data removed]",
      "text/plain": [
       "<Figure size 432x288 with 1 Axes>"
      ]
     },
     "metadata": {
      "needs_background": "light"
     },
     "output_type": "display_data"
    },
    {
     "name": "stdout",
     "output_type": "stream",
     "text": [
      "**************************************\n",
      "Проверяемая точка:  [3.5, 7.0]\n",
      "Вывод отсортированного списка соседей:\n",
      "y=6.0, расстояние=8.50\n",
      "y=8.1, расстояние=25.16\n",
      "y=2.0, расстояние=26.00\n",
      "y=1.9, расстояние=27.25\n",
      "y=8.2, расстояние=31.69\n",
      "y=8.1, расстояние=31.88\n",
      "y=1.2, расстояние=39.89\n",
      "y=8.3, расстояние=42.25\n",
      "y=1.1, расстояние=45.00\n",
      "y=4.5, расстояние=55.25\n",
      "y=4.0, расстояние=56.25\n",
      "\n",
      "Вывод расстояния для отсортированного списка соседей:\n"
     ]
    },
    {
     "data": {
      "image/png": "[encoded data removed]",
      "text/plain": [
       "<Figure size 432x288 with 1 Axes>"
      ]
     },
     "metadata": {
      "needs_background": "light"
     },
     "output_type": "display_data"
    },
    {
     "name": "stdout",
     "output_type": "stream",
     "text": [
      "Вывод К ближайших соседей:\n",
      "y=6.0, расстояние=8.50\n",
      "y=8.1, расстояние=25.16\n",
      "y=2.0, расстояние=26.00\n",
      "y=1.9, расстояние=27.25\n",
      "y=8.2, расстояние=31.69\n",
      "\n",
      "Визуализация К ближайших соседей:\n"
     ]
    },
    {
     "data": {
      "image/png": "[encoded data removed]",
      "text/plain": [
       "<Figure size 432x288 with 1 Axes>"
      ]
     },
     "metadata": {
      "needs_background": "light"
     },
     "output_type": "display_data"
    },
    {
     "name": "stdout",
     "output_type": "stream",
     "text": [
      "**************************************\n",
      "Проверяемая точка:  [8.5, 1.5]\n",
      "Вывод отсортированного списка соседей:\n",
      "y=4.0, расстояние=0.50\n",
      "y=4.5, расстояние=0.50\n",
      "y=2.0, расстояние=36.25\n",
      "y=1.9, расстояние=42.50\n",
      "y=8.2, расстояние=45.14\n",
      "y=1.2, расстояние=56.34\n",
      "y=8.1, расстояние=56.41\n",
      "y=8.1, расстояние=59.33\n",
      "y=1.1, расстояние=64.25\n",
      "y=8.3, расстояние=65.00\n",
      "y=6.0, расстояние=105.25\n",
      "\n",
      "Вывод расстояния для отсортированного списка соседей:\n"
     ]
    },
    {
     "data": {
      "image/png": "[encoded data removed]",
      "text/plain": [
       "<Figure size 432x288 with 1 Axes>"
      ]
     },
     "metadata": {
      "needs_background": "light"
     },
     "output_type": "display_data"
    },
    {
     "name": "stdout",
     "output_type": "stream",
     "text": [
      "Вывод К ближайших соседей:\n",
      "y=4.0, расстояние=0.50\n",
      "y=4.5, расстояние=0.50\n",
      "y=2.0, расстояние=36.25\n",
      "y=1.9, расстояние=42.50\n",
      "y=8.2, расстояние=45.14\n",
      "\n",
      "Визуализация К ближайших соседей:\n"
     ]
    },
    {
     "data": {
      "image/png": "[encoded data removed]",
      "text/plain": [
       "<Figure size 432x288 with 1 Axes>"
      ]
     },
     "metadata": {
      "needs_background": "light"
     },
     "output_type": "display_data"
    },
    {
     "name": "stdout",
     "output_type": "stream",
     "text": [
      "**************************************\n",
      "Проверяемая точка:  [8.5, 8.5]\n",
      "Вывод отсортированного списка соседей:\n",
      "y=8.2, расстояние=0.34\n",
      "y=8.1, расстояние=0.41\n",
      "y=8.1, расстояние=0.53\n",
      "y=8.3, расстояние=2.00\n",
      "y=4.5, расстояние=42.50\n",
      "y=6.0, расстояние=56.25\n",
      "y=4.0, расстояние=56.50\n",
      "y=2.0, расстояние=78.25\n",
      "y=1.9, расстояние=84.50\n",
      "y=1.2, расстояние=109.54\n",
      "y=1.1, расстояние=120.25\n",
      "\n",
      "Вывод расстояния для отсортированного списка соседей:\n"
     ]
    },
    {
     "data": {
      "image/png": "[encoded data removed]",
      "text/plain": [
       "<Figure size 432x288 with 1 Axes>"
      ]
     },
     "metadata": {
      "needs_background": "light"
     },
     "output_type": "display_data"
    },
    {
     "name": "stdout",
     "output_type": "stream",
     "text": [
      "Вывод К ближайших соседей:\n",
      "y=8.2, расстояние=0.34\n",
      "y=8.1, расстояние=0.41\n",
      "y=8.1, расстояние=0.53\n",
      "y=8.3, расстояние=2.00\n",
      "y=4.5, расстояние=42.50\n",
      "\n",
      "Визуализация К ближайших соседей:\n"
     ]
    },
    {
     "data": {
      "image/png": "[encoded data removed]",
      "text/plain": [
       "<Figure size 432x288 with 1 Axes>"
      ]
     },
     "metadata": {
      "needs_background": "light"
     },
     "output_type": "display_data"
    },
    {
     "data": {
      "text/plain": [
       "[2.04, 5.24, 4.12, 7.44]"
      ]
     },
     "execution_count": 20,
     "metadata": {},
     "output_type": "execute_result"
    }
   ],
   "source": [
    "# Для всех объектов тестовой выборки (регрессия)\n",
    "simple_knn_regr_prediction = simple_knn_regr.predict(K=5, \\\n",
    "                          prediction_type=PredictionType.REGRESSION, \\\n",
    "                          X_test=data_test[['x1','x2']])\n",
    "simple_knn_regr_prediction"
   ]
  },
  {
   "cell_type": "code",
   "execution_count": 21,
   "metadata": {
    "scrolled": false
   },
   "outputs": [
    {
     "name": "stdout",
     "output_type": "stream",
     "text": [
      "**************************************\n",
      "Проверяемая точка:  [1.7, 1.7]\n",
      "Вывод отсортированного списка соседей:\n",
      "y=A, расстояние=0.18\n",
      "y=A, расстояние=0.73\n",
      "y=A, расстояние=0.74\n",
      "y=A, расстояние=1.93\n",
      "y=B, расстояние=40.18\n",
      "y=C, расстояние=46.73\n",
      "y=B, расстояние=53.38\n",
      "y=D, расстояние=94.25\n",
      "y=D, расстояние=95.54\n",
      "y=D, расстояние=105.25\n",
      "y=D, расстояние=121.68\n",
      "\n",
      "Вывод расстояния для отсортированного списка соседей:\n"
     ]
    },
    {
     "data": {
      "image/png": "[encoded data removed]",
      "text/plain": [
       "<Figure size 432x288 with 1 Axes>"
      ]
     },
     "metadata": {
      "needs_background": "light"
     },
     "output_type": "display_data"
    },
    {
     "name": "stdout",
     "output_type": "stream",
     "text": [
      "Вывод К ближайших соседей:\n",
      "y=A, расстояние=0.18\n",
      "y=A, расстояние=0.73\n",
      "y=A, расстояние=0.74\n",
      "\n",
      "Визуализация К ближайших соседей:\n"
     ]
    },
    {
     "data": {
      "image/png": "[encoded data removed]",
      "text/plain": [
       "<Figure size 432x288 with 1 Axes>"
      ]
     },
     "metadata": {
      "needs_background": "light"
     },
     "output_type": "display_data"
    },
    {
     "name": "stdout",
     "output_type": "stream",
     "text": [
      "Классы, соответствующие К ближайшим соседям:\n",
      "класс=A, количество элементов=3\n",
      "**************************************\n",
      "Проверяемая точка:  [3.5, 7.0]\n",
      "Вывод отсортированного списка соседей:\n",
      "y=C, расстояние=8.50\n",
      "y=D, расстояние=25.16\n",
      "y=A, расстояние=26.00\n",
      "y=A, расстояние=27.25\n",
      "y=D, расстояние=31.69\n",
      "y=D, расстояние=31.88\n",
      "y=A, расстояние=39.89\n",
      "y=D, расстояние=42.25\n",
      "y=A, расстояние=45.00\n",
      "y=B, расстояние=55.25\n",
      "y=B, расстояние=56.25\n",
      "\n",
      "Вывод расстояния для отсортированного списка соседей:\n"
     ]
    },
    {
     "data": {
      "image/png": "[encoded data removed]",
      "text/plain": [
       "<Figure size 432x288 with 1 Axes>"
      ]
     },
     "metadata": {
      "needs_background": "light"
     },
     "output_type": "display_data"
    },
    {
     "name": "stdout",
     "output_type": "stream",
     "text": [
      "Вывод К ближайших соседей:\n",
      "y=C, расстояние=8.50\n",
      "y=D, расстояние=25.16\n",
      "y=A, расстояние=26.00\n",
      "\n",
      "Визуализация К ближайших соседей:\n"
     ]
    },
    {
     "data": {
      "image/png": "[encoded data removed]",
      "text/plain": [
       "<Figure size 432x288 with 1 Axes>"
      ]
     },
     "metadata": {
      "needs_background": "light"
     },
     "output_type": "display_data"
    },
    {
     "name": "stdout",
     "output_type": "stream",
     "text": [
      "Классы, соответствующие К ближайшим соседям:\n",
      "класс=A, количество элементов=1\n",
      "класс=C, количество элементов=1\n",
      "класс=D, количество элементов=1\n",
      "**************************************\n",
      "Проверяемая точка:  [8.5, 1.5]\n",
      "Вывод отсортированного списка соседей:\n",
      "y=B, расстояние=0.50\n",
      "y=B, расстояние=0.50\n",
      "y=A, расстояние=36.25\n",
      "y=A, расстояние=42.50\n",
      "y=D, расстояние=45.14\n",
      "y=A, расстояние=56.34\n",
      "y=D, расстояние=56.41\n",
      "y=D, расстояние=59.33\n",
      "y=A, расстояние=64.25\n",
      "y=D, расстояние=65.00\n",
      "y=C, расстояние=105.25\n",
      "\n",
      "Вывод расстояния для отсортированного списка соседей:\n"
     ]
    },
    {
     "data": {
      "image/png": "[encoded data removed]",
      "text/plain": [
       "<Figure size 432x288 with 1 Axes>"
      ]
     },
     "metadata": {
      "needs_background": "light"
     },
     "output_type": "display_data"
    },
    {
     "name": "stdout",
     "output_type": "stream",
     "text": [
      "Вывод К ближайших соседей:\n",
      "y=B, расстояние=0.50\n",
      "y=B, расстояние=0.50\n",
      "y=A, расстояние=36.25\n",
      "\n",
      "Визуализация К ближайших соседей:\n"
     ]
    },
    {
     "data": {
      "image/png": "[encoded data removed]",
      "text/plain": [
       "<Figure size 432x288 with 1 Axes>"
      ]
     },
     "metadata": {
      "needs_background": "light"
     },
     "output_type": "display_data"
    },
    {
     "name": "stdout",
     "output_type": "stream",
     "text": [
      "Классы, соответствующие К ближайшим соседям:\n",
      "класс=B, количество элементов=2\n",
      "класс=A, количество элементов=1\n",
      "**************************************\n",
      "Проверяемая точка:  [8.5, 8.5]\n",
      "Вывод отсортированного списка соседей:\n",
      "y=D, расстояние=0.34\n",
      "y=D, расстояние=0.41\n",
      "y=D, расстояние=0.53\n",
      "y=D, расстояние=2.00\n",
      "y=B, расстояние=42.50\n",
      "y=C, расстояние=56.25\n",
      "y=B, расстояние=56.50\n",
      "y=A, расстояние=78.25\n",
      "y=A, расстояние=84.50\n",
      "y=A, расстояние=109.54\n",
      "y=A, расстояние=120.25\n",
      "\n",
      "Вывод расстояния для отсортированного списка соседей:\n"
     ]
    },
    {
     "data": {
      "image/png": "[encoded data removed]",
      "text/plain": [
       "<Figure size 432x288 with 1 Axes>"
      ]
     },
     "metadata": {
      "needs_background": "light"
     },
     "output_type": "display_data"
    },
    {
     "name": "stdout",
     "output_type": "stream",
     "text": [
      "Вывод К ближайших соседей:\n",
      "y=D, расстояние=0.34\n",
      "y=D, расстояние=0.41\n",
      "y=D, расстояние=0.53\n",
      "\n",
      "Визуализация К ближайших соседей:\n"
     ]
    },
    {
     "data": {
      "image/png": "[encoded data removed]",
      "text/plain": [
       "<Figure size 432x288 with 1 Axes>"
      ]
     },
     "metadata": {
      "needs_background": "light"
     },
     "output_type": "display_data"
    },
    {
     "name": "stdout",
     "output_type": "stream",
     "text": [
      "Классы, соответствующие К ближайшим соседям:\n",
      "класс=D, количество элементов=3\n"
     ]
    },
    {
     "data": {
      "text/plain": [
       "['A', 'A', 'B', 'D']"
      ]
     },
     "execution_count": 21,
     "metadata": {},
     "output_type": "execute_result"
    }
   ],
   "source": [
    "# Для всех объектов тестовой выборки (классификация)\n",
    "simple_knn_clas_prediction = simple_knn_clas.predict(K=3, \\\n",
    "                          prediction_type=PredictionType.CLASSIFICATION, \\\n",
    "                          X_test=data_test[['x1','x2']])\n",
    "simple_knn_clas_prediction"
   ]
  },
  {
   "cell_type": "code",
   "execution_count": null,
   "metadata": {},
   "outputs": [],
   "source": []
  },
  {
   "cell_type": "markdown",
   "metadata": {},
   "source": [
    "## [Использование классов scikit-learn](https://scikit-learn.org/stable/modules/neighbors.html)\n",
    "\n",
    "- [KNeighborsRegressor](https://scikit-learn.org/stable/modules/generated/sklearn.neighbors.KNeighborsRegressor.html) - для решения задачи регрессии\n",
    "- [KNeighborsClassifier](https://scikit-learn.org/stable/modules/generated/sklearn.neighbors.KNeighborsClassifier.html) - для решения задачи классификации\n"
   ]
  },
  {
   "cell_type": "code",
   "execution_count": 22,
   "metadata": {},
   "outputs": [],
   "source": [
    "from sklearn.neighbors import KNeighborsRegressor, KNeighborsClassifier"
   ]
  },
  {
   "cell_type": "markdown",
   "metadata": {},
   "source": [
    "### Классификация"
   ]
  },
  {
   "cell_type": "code",
   "execution_count": 23,
   "metadata": {},
   "outputs": [
    {
     "data": {
      "text/plain": [
       "KNeighborsClassifier(algorithm='auto', leaf_size=30, metric='minkowski',\n",
       "           metric_params=None, n_jobs=None, n_neighbors=3, p=2,\n",
       "           weights='uniform')"
      ]
     },
     "execution_count": 23,
     "metadata": {},
     "output_type": "execute_result"
    }
   ],
   "source": [
    "KNeighborsClassifierObj = KNeighborsClassifier(n_neighbors=3)\n",
    "KNeighborsClassifierObj"
   ]
  },
  {
   "cell_type": "code",
   "execution_count": 24,
   "metadata": {},
   "outputs": [
    {
     "data": {
      "text/plain": [
       "array(['A', 'A', 'B', 'D'], dtype=object)"
      ]
     },
     "execution_count": 24,
     "metadata": {},
     "output_type": "execute_result"
    }
   ],
   "source": [
    "KNeighborsClassifierObj.fit(data_train[['x1','x2']], data_train['y_clas'])\n",
    "KNeighborsClassifierObj.predict(data_test[['x1','x2']])"
   ]
  },
  {
   "cell_type": "code",
   "execution_count": 25,
   "metadata": {},
   "outputs": [
    {
     "data": {
      "text/plain": [
       "array(['A', 'A', 'B', 'D'], dtype='<U1')"
      ]
     },
     "execution_count": 25,
     "metadata": {},
     "output_type": "execute_result"
    }
   ],
   "source": [
    "simple_knn_clas = SimpleKNN()\n",
    "simple_knn_clas.fit(data_train[['x1','x2']], data_train['y_clas'])\n",
    "simple_knn_clas_prediction = simple_knn_clas.predict(K=3, \\\n",
    "                          prediction_type=PredictionType.CLASSIFICATION, \\\n",
    "                          X_test=data_test[['x1','x2']], verbose = False)\n",
    "np.array(simple_knn_clas_prediction)"
   ]
  },
  {
   "cell_type": "markdown",
   "metadata": {},
   "source": [
    "### Регрессия"
   ]
  },
  {
   "cell_type": "code",
   "execution_count": 26,
   "metadata": {},
   "outputs": [
    {
     "data": {
      "text/plain": [
       "KNeighborsRegressor(algorithm='auto', leaf_size=30, metric='minkowski',\n",
       "          metric_params=None, n_jobs=None, n_neighbors=5, p=2,\n",
       "          weights='uniform')"
      ]
     },
     "execution_count": 26,
     "metadata": {},
     "output_type": "execute_result"
    }
   ],
   "source": [
    "KNeighborsRegressorObj = KNeighborsRegressor()\n",
    "KNeighborsRegressorObj"
   ]
  },
  {
   "cell_type": "code",
   "execution_count": 27,
   "metadata": {},
   "outputs": [
    {
     "data": {
      "text/plain": [
       "array([2.04, 5.24, 4.12, 7.44])"
      ]
     },
     "execution_count": 27,
     "metadata": {},
     "output_type": "execute_result"
    }
   ],
   "source": [
    "KNeighborsRegressorObj.fit(data_train[['x1','x2']], data_train['y'])\n",
    "KNeighborsRegressorObj.predict(data_test[['x1','x2']])"
   ]
  },
  {
   "cell_type": "code",
   "execution_count": 28,
   "metadata": {},
   "outputs": [
    {
     "data": {
      "text/plain": [
       "array([2.04, 5.24, 4.12, 7.44])"
      ]
     },
     "execution_count": 28,
     "metadata": {},
     "output_type": "execute_result"
    }
   ],
   "source": [
    "simple_knn_regr = SimpleKNN()\n",
    "simple_knn_regr.fit(data_train[['x1','x2']], data_train['y'])\n",
    "simple_knn_regr_prediction = simple_knn_regr.predict(K=5, \\\n",
    "                          prediction_type=PredictionType.REGRESSION, \\\n",
    "                          X_test=data_test[['x1','x2']], verbose = False)\n",
    "np.array(simple_knn_regr_prediction)"
   ]
  },
  {
   "cell_type": "markdown",
   "metadata": {},
   "source": [
    "## Достоинства и недостатки\n",
    "\n",
    "### Достоинства \n",
    "- Простота и универсальность метода.\n",
    "- Возможность использования для классификации и регрессии.\n",
    "- Возможность использования для обучения без учителя.\n",
    "\n",
    "### Недостатки\n",
    "- Метод в целом считается не очень точным.\n",
    "- Зависимость от гиперпараметра K.\n",
    "- При большом количестве точек перебор и вычисление расстояния занимают много времени. Для этого используются различные методы ускорения алгоритма - https://scikit-learn.org/stable/modules/neighbors.html#nearest-neighbor-algorithms"
   ]
  },
  {
   "cell_type": "markdown",
   "metadata": {},
   "source": [
    "## Особенности алгоритма"
   ]
  },
  {
   "cell_type": "markdown",
   "metadata": {},
   "source": [
    "### Обучение без учителя\n",
    "Поскольку метод фактически не строит модель $M$ и для поиска ближайших соседей использует только меру близости между $X^{train}$ и $X^{test}$, то в некоторых случаях $Y^{train}$ игнорируют, и метод k-NN рассматривают как один из методов обучения без учителя. В этом случае k-NN можно рассматривать как специфическую разновидность алгоритма кластеризации - http://scikit-learn.org/stable/modules/neighbors.html"
   ]
  },
  {
   "cell_type": "markdown",
   "metadata": {},
   "source": [
    "### Нормализация признаков\n",
    "Если признаки лежат в различных диапазонах, то необходимо их нормализовать. Как правило, применяют два подхода:\n",
    "- Мини-макс нормализация:\n",
    "$$ x_{новый} = \\frac{x_{старый} - min(X)}{max(X)-min(X)} $$\n",
    "\n",
    "В этом случае значения лежат в диапазоне от 0 до 1.\n",
    "- Z-нормализация:\n",
    "$$ x_{новый} = \\frac{x_{старый} - AVG(X) }{\\sigma(X)} $$\n",
    "\n",
    "В этом случае большинство значений попадает в диапазон от -3 до 3.\n",
    "\n",
    "где $X$ - матрица объект-признак, $AVG(X)$ - среднее значение, $\\sigma$ - среднеквадратичное отклонение."
   ]
  },
  {
   "cell_type": "code",
   "execution_count": null,
   "metadata": {},
   "outputs": [],
   "source": []
  }
 ],
 "metadata": {
  "kernelspec": {
   "display_name": "Python 3",
   "language": "python",
   "name": "python3"
  },
  "language_info": {
   "codemirror_mode": {
    "name": "ipython",
    "version": 3
   },
   "file_extension": ".py",
   "mimetype": "text/x-python",
   "name": "python",
   "nbconvert_exporter": "python",
   "pygments_lexer": "ipython3",
   "version": "3.7.1"
  }
 },
 "nbformat": 4,
 "nbformat_minor": 2
}
